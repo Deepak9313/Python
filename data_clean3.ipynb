{
 "cells": [
  {
   "cell_type": "code",
   "execution_count": 15,
   "metadata": {},
   "outputs": [
    {
     "name": "stdout",
     "output_type": "stream",
     "text": [
      "count     541909\n",
      "unique     25900\n",
      "top       573585\n",
      "freq        1114\n",
      "Name: InvoiceNo, dtype: object\n",
      "            Quantity      UnitPrice     CustomerID\n",
      "count  541909.000000  541909.000000  406829.000000\n",
      "mean        9.552250       4.611114   15287.690570\n",
      "std       218.081158      96.759853    1713.600303\n",
      "min    -80995.000000  -11062.060000   12346.000000\n",
      "25%         1.000000       1.250000   13953.000000\n",
      "50%         3.000000       2.080000   15152.000000\n",
      "75%        10.000000       4.130000   16791.000000\n",
      "max     80995.000000   38970.000000   18287.000000\n"
     ]
    }
   ],
   "source": [
    "import pandas as pd\n",
    "import numpy as np\n",
    "file = pd.read_csv(\"real2.csv\")\n",
    "data = pd.DataFrame(file)\n",
    "print(data[\"Description\"])\n",
    "data[\"Description\"] = data[\"Description\"].str.title()\n",
    "print(data[\"Description\"])\n",
    "# For Data Science\n",
    "# Standard Deviation , variance , interquartile range and mean , mode ,median\n",
    "ran = np.arange(1,11).mean()\n",
    "print(data[\"InvoiceNo\"].describe())\n",
    "print(data.describe())\n"
   ]
  }
 ],
 "metadata": {
  "kernelspec": {
   "display_name": "Python 3",
   "language": "python",
   "name": "python3"
  },
  "language_info": {
   "codemirror_mode": {
    "name": "ipython",
    "version": 3
   },
   "file_extension": ".py",
   "mimetype": "text/x-python",
   "name": "python",
   "nbconvert_exporter": "python",
   "pygments_lexer": "ipython3",
   "version": "3.12.1"
  }
 },
 "nbformat": 4,
 "nbformat_minor": 2
}
