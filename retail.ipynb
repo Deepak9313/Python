{
 "cells": [
  {
   "cell_type": "code",
   "execution_count": 7,
   "metadata": {},
   "outputs": [
    {
     "name": "stdout",
     "output_type": "stream",
     "text": [
      "       InvoiceNo StockCode                          Description  Quantity  \\\n",
      "0         536365    85123A   WHITE HANGING HEART T-LIGHT HOLDER         6   \n",
      "1         536365     71053                  WHITE METAL LANTERN         6   \n",
      "2         536365    84406B       CREAM CUPID HEARTS COAT HANGER         8   \n",
      "3         536365    84029G  KNITTED UNION FLAG HOT WATER BOTTLE         6   \n",
      "4         536365    84029E       RED WOOLLY HOTTIE WHITE HEART.         6   \n",
      "...          ...       ...                                  ...       ...   \n",
      "541904    581587     22613          PACK OF 20 SPACEBOY NAPKINS        12   \n",
      "541905    581587     22899         CHILDREN'S APRON DOLLY GIRL          6   \n",
      "541906    581587     23254        CHILDRENS CUTLERY DOLLY GIRL          4   \n",
      "541907    581587     23255      CHILDRENS CUTLERY CIRCUS PARADE         4   \n",
      "541908    581587     22138        BAKING SET 9 PIECE RETROSPOT          3   \n",
      "\n",
      "               InvoiceDate  UnitPrice  CustomerID         Country New Column  \n",
      "0      2010-12-01 08:26:00       2.55     17850.0  United Kingdom       None  \n",
      "1      2010-12-01 08:26:00       3.39     17850.0  United Kingdom       None  \n",
      "2      2010-12-01 08:26:00       2.75     17850.0  United Kingdom       None  \n",
      "3      2010-12-01 08:26:00       3.39     17850.0  United Kingdom       None  \n",
      "4      2010-12-01 08:26:00       3.39     17850.0  United Kingdom       None  \n",
      "...                    ...        ...         ...             ...        ...  \n",
      "541904 2011-12-09 12:50:00       0.85     12680.0          France       None  \n",
      "541905 2011-12-09 12:50:00       2.10     12680.0          France       None  \n",
      "541906 2011-12-09 12:50:00       4.15     12680.0          France       None  \n",
      "541907 2011-12-09 12:50:00       4.15     12680.0          France       None  \n",
      "541908 2011-12-09 12:50:00       4.95     12680.0          France       None  \n",
      "\n",
      "[541909 rows x 9 columns]\n"
     ]
    }
   ],
   "source": [
    "import numpy as np\n",
    "import pandas as pd\n",
    "file = pd.read_excel(\"retail.xlsx\")\n",
    "data = pd.DataFrame(file)\n",
    "data['New Column'] = None\n",
    "writer = \"output.xlsx\"\n",
    "data.to_excel(writer,index=False)\n",
    "print(data)"
   ]
  }
 ],
 "metadata": {
  "kernelspec": {
   "display_name": "Python 3",
   "language": "python",
   "name": "python3"
  },
  "language_info": {
   "codemirror_mode": {
    "name": "ipython",
    "version": 3
   },
   "file_extension": ".py",
   "mimetype": "text/x-python",
   "name": "python",
   "nbconvert_exporter": "python",
   "pygments_lexer": "ipython3",
   "version": "3.12.1"
  }
 },
 "nbformat": 4,
 "nbformat_minor": 2
}
