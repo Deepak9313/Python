import pandas as pd
file = pd.read_csv("Russia_war_data/russia_losses_equipment.csv")
data = pd.DataFrame(file)
print(data)